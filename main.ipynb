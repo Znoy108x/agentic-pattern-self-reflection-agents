{
 "cells": [
  {
   "cell_type": "code",
   "execution_count": 1,
   "id": "b7e71fce",
   "metadata": {},
   "outputs": [],
   "source": [
    "import os\n",
    "os.environ[\"PINECONE_API_KEY\"] = \"\"\n",
    "os.environ[\"GROK_API_KEY\"] =\"\"\n",
    "os.environ[\"OPENAI_API_KEY\"] = \"\"   \n",
    "os.environ[\"LANGSMITH_API_KEY\"] = \"\"\n",
    "os.environ[\"LANGSMITH_PROJECT\"] = \"\""
   ]
  },
  {
   "cell_type": "code",
   "execution_count": 38,
   "id": "4d1a4dba",
   "metadata": {},
   "outputs": [],
   "source": [
    "from llama_index.core import VectorStoreIndex, StorageContext, Document, get_response_synthesizer\n",
    "from llama_index.llms.openai import OpenAI\n",
    "from llama_index.core.llms import LLMMetadata\n",
    "from langchain_xai import ChatXAI\n",
    "from llama_index.core.base.llms.types import MessageRole\n",
    "from llama_index.vector_stores.pinecone import PineconeVectorStore\n",
    "from llama_index.embeddings.openai import OpenAIEmbedding\n",
    "from pinecone import Pinecone, ServerlessSpec\n",
    "from langchain.tools import tool\n",
    "from langchain_core.prompts import ChatPromptTemplate\n",
    "from pydantic import BaseModel, Field\n",
    "from typing import TypedDict\n",
    "from langgraph.graph import StateGraph, END\n",
    "from enum import Enum\n",
    "from langchain_core.output_parsers import PydanticOutputParser\n",
    "from IPython.display import display, Markdown\n",
    "import json"
   ]
  },
  {
   "cell_type": "code",
   "execution_count": 3,
   "id": "7a28cab0",
   "metadata": {},
   "outputs": [
    {
     "name": "stdout",
     "output_type": "stream",
     "text": [
      "Creating new index 'sra-finance-advisor' with 1536 dimensions...\n"
     ]
    }
   ],
   "source": [
    "pc = Pinecone()\n",
    "index_name = \"sra-finance-advisor\"\n",
    "\n",
    "if not pc.has_index(index_name):\n",
    "    print(f\"Creating new index '{index_name}' with 1536 dimensions...\")\n",
    "    pc.create_index(\n",
    "        name=index_name,\n",
    "        dimension=1536,\n",
    "        metric=\"cosine\",\n",
    "        spec=ServerlessSpec(\n",
    "        cloud=\"aws\",\n",
    "        region=\"us-east-1\",\n",
    "        )\n",
    "    )\n",
    "pinecone_index = pc.Index(index_name)\n",
    "index_stats = pc.describe_index(index_name)\n",
    "pc_index = pc.Index(index_name)"
   ]
  },
  {
   "cell_type": "code",
   "execution_count": 4,
   "id": "334a3106",
   "metadata": {},
   "outputs": [],
   "source": [
    "documents = [\n",
    "    Document(\n",
    "        text=\"Budgeting rule: 50/30/20 - Allocate 50% of your income to needs (essentials like rent and food), 30% to wants (entertainment, dining out), and 20% to savings or debt repayment. This helps build financial stability.\"\n",
    "    ),\n",
    "    Document(\n",
    "        text=\"Investing basics for beginners: Start with low-cost index funds or ETFs. Diversify across stocks, bonds, and real estate. Understand risk tolerance: Conservative investors prefer bonds, aggressive ones lean toward stocks. Always research fees and taxes.\"\n",
    "    ),\n",
    "    Document(\n",
    "        text=\"Salary budgeting example: For a $50,000 annual salary, after taxes (assume 20% effective rate), take-home is $40,000. Monthly: ~$3,333. Apply 50/30/20: $1,666 needs, $1,000 wants, $667 savings. Track expenses with apps like Mint.\"\n",
    "    ),\n",
    "    Document(\n",
    "        text=\"Stock market tips: Invest in blue-chip companies like Apple or Google for stability. Use dollar-cost averaging to buy shares over time. Avoid day trading as a beginner; focus on long-term growth. Monitor via apps like Yahoo Finance.\"\n",
    "    ),\n",
    "    Document(\n",
    "        text=\"Crypto risks: High volatility can lead to losses. Only invest what you can afford to lose. Regulations vary by country; in the US, treat as assets for taxes. Diversify with Bitcoin, Ethereum, but beware of scams and hacks.\"\n",
    "    ),\n",
    "]"
   ]
  },
  {
   "cell_type": "code",
   "execution_count": 5,
   "id": "1b35d790",
   "metadata": {},
   "outputs": [],
   "source": [
    "# Vector Store\n",
    "embed_model = OpenAIEmbedding()\n",
    "vector_store = PineconeVectorStore(pinecone_index=pc_index)\n",
    "storage_context = StorageContext.from_defaults(vector_store=vector_store)"
   ]
  },
  {
   "cell_type": "code",
   "execution_count": 6,
   "id": "c0797e2a",
   "metadata": {},
   "outputs": [
    {
     "name": "stderr",
     "output_type": "stream",
     "text": [
      "Upserted vectors: 100%|██████████| 5/5 [00:01<00:00,  2.95it/s]\n"
     ]
    }
   ],
   "source": [
    "index = VectorStoreIndex.from_documents(\n",
    "    documents, \n",
    "    storage_context=storage_context,\n",
    "    embed_model=embed_model\n",
    ")"
   ]
  },
  {
   "cell_type": "code",
   "execution_count": 7,
   "id": "5b5f3f3e",
   "metadata": {},
   "outputs": [],
   "source": [
    "retriever = index.as_retriever(\n",
    "    similarity_top_k=2,\n",
    "    vector_store_query_mode=\"hybrid\",\n",
    "    alpha=0.5\n",
    ")"
   ]
  },
  {
   "cell_type": "code",
   "execution_count": 8,
   "id": "baf7310a",
   "metadata": {},
   "outputs": [],
   "source": [
    "open_ai_llm = OpenAI(\n",
    "    model=\"gpt-4o-mini\",\n",
    ")\n",
    "\n",
    "query_engine = index.as_query_engine(\n",
    "    vector_store_query_mode=\"hybrid\",\n",
    "    response_synthesizer=get_response_synthesizer(llm=open_ai_llm)  \n",
    ")"
   ]
  },
  {
   "cell_type": "code",
   "execution_count": 9,
   "id": "9068fab9",
   "metadata": {},
   "outputs": [
    {
     "name": "stdout",
     "output_type": "stream",
     "text": [
      "For beginners in investing, it's advisable to start with low-cost index funds or ETFs, which provide a broad market exposure. Diversification is key, so consider spreading investments across various asset classes such as stocks, bonds, and real estate. It's important to understand your risk tolerance; conservative investors typically prefer bonds, while those with a more aggressive stance may favor stocks. Additionally, always be mindful of fees and taxes associated with your investments.\n"
     ]
    }
   ],
   "source": [
    "response1 = query_engine.query(\"Tell me about investing basics for beginners\")\n",
    "print(response1)"
   ]
  },
  {
   "cell_type": "code",
   "execution_count": 10,
   "id": "69356026",
   "metadata": {},
   "outputs": [
    {
     "name": "stdout",
     "output_type": "stream",
     "text": [
      "For a $50,000 annual salary, after accounting for a 20% effective tax rate, the take-home pay would be approximately $40,000. This translates to a monthly income of around $3,333. Following the 50/30/20 budgeting rule, you would allocate approximately $1,666 for needs (essentials), $1,000 for wants (discretionary spending), and $667 for savings or debt repayment each month.\n"
     ]
    }
   ],
   "source": [
    "response2 = query_engine.query(\"50/30/20 budgeting rule for $50K salary\")\n",
    "print(response2)"
   ]
  },
  {
   "cell_type": "code",
   "execution_count": 26,
   "id": "4d47cece",
   "metadata": {},
   "outputs": [],
   "source": [
    "# Prompts\n",
    "class ResearchOutput(BaseModel):\n",
    "    answer: str = Field(description=\"The finance advisor's answer to the query\")\n",
    "\n",
    "class ReflectionOutput(BaseModel):\n",
    "    score: int = Field(description=\"Score for response accuracy and completeness (1-10)\")\n",
    "    suggestions: list[str] = Field(description=\"Suggestions for improvement if score < 8\")\n",
    "    \n",
    "researcher_prompt = ChatPromptTemplate(\n",
    "    [\n",
    "        (\"system\" ,\"You are an researcher with IQ 150, you help people in financial decisions. {format_instructions}\"),\n",
    "        (\"human\" ,\"Give me a good response for this query => {query}, Here is the reference which can help you answer this {reference}\")\n",
    "    ]\n",
    ")\n",
    "\n",
    "evaluator_prompt = ChatPromptTemplate(\n",
    "    [\n",
    "        (\"system\" , \"You are a good reviewer you give score and suggestions for the query, 1 means worst and 10 means best and suggestions are based on the query to improve the response. {format_instructions}\"),\n",
    "        (\"human\" ,\"This is my response => {response}, for this query => {query}, Give me ranking for this answer btw 1-10\")\n",
    "    ]\n",
    ")"
   ]
  },
  {
   "cell_type": "code",
   "execution_count": 27,
   "id": "14f3f167",
   "metadata": {},
   "outputs": [],
   "source": [
    "# Tools\n",
    "@tool\n",
    "def retrieve_finance_info(query: str) -> str:\n",
    "    \"\"\" This function retrieves the financial info by using grok llm based on user query \"\"\"\n",
    "    try:\n",
    "        docs = retriever.retrieve(query)\n",
    "        return \"\\n\".join([doc.text for doc in docs])\n",
    "    except Exception as e:\n",
    "        return \"Something went wrong while fetching the documents.\""
   ]
  },
  {
   "cell_type": "code",
   "execution_count": 28,
   "id": "b2d5108c",
   "metadata": {},
   "outputs": [],
   "source": [
    "groq_llm = ChatXAI(\n",
    "    model=\"grok-4-fast-reasoning\",\n",
    "    api_key=os.environ[\"GROK_API_KEY\"],\n",
    "    temperature=0.7\n",
    ")\n",
    "\n",
    "research_parser = PydanticOutputParser(pydantic_object=ResearchOutput)\n",
    "reflection_parser = PydanticOutputParser(pydantic_object=ReflectionOutput)\n",
    "\n",
    "research_chain = (\n",
    "    researcher_prompt \n",
    "    | groq_llm \n",
    "    | research_parser\n",
    ")\n",
    "\n",
    "evaluation_chain = (\n",
    "    evaluator_prompt \n",
    "    | groq_llm \n",
    "    | reflection_parser\n",
    ")"
   ]
  },
  {
   "cell_type": "code",
   "execution_count": 40,
   "id": "be5c51d7",
   "metadata": {},
   "outputs": [
    {
     "data": {
      "image/png": "[encoded data removed]",
      "text/plain": [
       "<langgraph.graph.state.CompiledStateGraph object at 0x11d54e790>"
      ]
     },
     "execution_count": 40,
     "metadata": {},
     "output_type": "execute_result"
    }
   ],
   "source": [
    "class Status(Enum):\n",
    "    RESEARCHING = \"researching\"\n",
    "    EVALUATING = \"evaluating\"\n",
    "    COMPLETED = \"completed\"\n",
    "    FAILED = \"failed\"\n",
    "    \n",
    "class AgentState(TypedDict):\n",
    "    query: str\n",
    "    response: str\n",
    "    score : int\n",
    "    suggestions : list[str]\n",
    "    iteration : int\n",
    "    status : Status\n",
    "    err_msg: str\n",
    "\n",
    "def should_iterate(state : AgentState)->str:\n",
    "    if state[\"status\"] == Status.FAILED:\n",
    "        return \"__end__\"\n",
    "    if state[\"iteration\"] == 3:\n",
    "        return \"__end__\"\n",
    "    if state[\"score\"] >=8:\n",
    "        return \"__end__\"\n",
    "    return \"researcher\"\n",
    "\n",
    "class ResearcherAgent():\n",
    "    def process(self, state: AgentState) -> AgentState:\n",
    "        try: \n",
    "            pc_response = retrieve_finance_info.invoke(state[\"query\"])\n",
    "\n",
    "            research_result = research_chain.invoke({\n",
    "                    \"query\": state[\"query\"],\n",
    "                    \"reference\": pc_response,\n",
    "                    \"format_instructions\": research_parser.get_format_instructions()\n",
    "                })\n",
    "\n",
    "            return {\n",
    "                \"query\": state[\"query\"],\n",
    "                \"response\": research_result.answer,\n",
    "                \"score\" : state[\"score\"],\n",
    "                \"suggestions\" : [],\n",
    "                \"iteration\" : state[\"iteration\"] + 1,\n",
    "                \"status\" : Status.RESEARCHING,\n",
    "                \"err_msg\" : state[\"err_msg\"]\n",
    "            }\n",
    "        except Exception as e:\n",
    "            return {\n",
    "                \"query\": state[\"query\"],\n",
    "                \"response\": \"Something went wrong while fetching the documents.\",\n",
    "                \"score\" : 0,\n",
    "                \"suggestions\" : [],\n",
    "                \"iteration\" : state[\"iteration\"] + 1,\n",
    "                \"status\" : Status.FAILED,\n",
    "                \"err_msg\" : str(e['error']['message'])\n",
    "            }\n",
    "\n",
    "class ReflectorAgent():\n",
    "    def process(self, state: AgentState) -> AgentState:\n",
    "        try:\n",
    "          \n",
    "            evaluation_result = evaluation_chain.invoke({\n",
    "                \"response\": state[\"response\"],\n",
    "                \"query\": state[\"query\"],\n",
    "                \"format_instructions\": reflection_parser.get_format_instructions()\n",
    "            })\n",
    "\n",
    "            return {\n",
    "                \"query\": state[\"query\"],\n",
    "                \"response\": state[\"response\"],\n",
    "                \"score\" : evaluation_result.score,\n",
    "                \"suggestions\" : evaluation_result.suggestions,\n",
    "                \"iteration\" : state[\"iteration\"],\n",
    "                \"status\" : Status.EVALUATING,\n",
    "                \"err_msg\" : state[\"err_msg\"]\n",
    "            }\n",
    "        except Exception as e:\n",
    "            return {\n",
    "                \"query\": state[\"query\"],\n",
    "                \"response\": state[\"response\"],\n",
    "                \"score\" : 0,\n",
    "                \"suggestions\" : [],\n",
    "                \"iteration\" : state[\"iteration\"],\n",
    "                \"status\" : Status.FAILED,\n",
    "                \"err_msg\" : str(e['error']['message'])\n",
    "            }\n",
    "\n",
    "workflow = StateGraph(AgentState)\n",
    "researcher = ResearcherAgent()\n",
    "reflector = ReflectorAgent()\n",
    "workflow.add_node(\"researcher\" , researcher.process)\n",
    "workflow.add_node(\"reflector\" , reflector.process)\n",
    "workflow.set_entry_point(\"researcher\")\n",
    "workflow.add_edge(\"researcher\", \"reflector\")\n",
    "workflow.add_conditional_edges(\"reflector\" , should_iterate, {\n",
    "    \"researcher\" : \"researcher\",\n",
    "    \"__end__\" : END\n",
    "})\n",
    "\n",
    "graph = workflow.compile()\n",
    "graph"
   ]
  },
  {
   "cell_type": "code",
   "execution_count": 41,
   "id": "855f2e16",
   "metadata": {},
   "outputs": [
    {
     "data": {
      "text/markdown": [
       "\n",
       "    ## Self-Reflection Agent Results\n",
       "\n",
       "    ### Query\n",
       "    50/30/20 budgeting rule for $50K salary\n",
       "\n",
       "    ### Final Response\n",
       "    The 50/30/20 budgeting rule is a simple and effective framework for managing your finances, especially on a $50,000 annual salary. It suggests allocating 50% of your after-tax income to needs (essentials like housing, food, utilities, and transportation), 30% to wants (non-essentials like dining out, entertainment, and hobbies), and 20% to savings or debt repayment. This approach promotes financial stability by ensuring you're covering necessities, enjoying life, and building a secure future.\n",
       "\n",
       "Let's apply this to your $50K salary. Assuming an effective tax rate of about 20% (which can vary by location and deductions), your annual take-home pay would be around $40,000, or approximately $3,333 per month.\n",
       "\n",
       "- **Needs (50%)**: $1,667/month – Cover must-haves like rent/mortgage (aim for no more than 30% of take-home), groceries, bills, and minimum debt payments.\n",
       "- **Wants (30%)**: $1,000/month – Budget for fun things like subscriptions, travel, or shopping without guilt.\n",
       "- **Savings/Debt (20%)**: $667/month – Prioritize an emergency fund (3-6 months of expenses), retirement contributions (e.g., 401(k)), or extra payments on high-interest debt.\n",
       "\n",
       "Track your spending with free apps like Mint or YNAB to stay on target. Adjust based on your actual tax situation or cost of living—consult a tax advisor for precision. Starting with this rule can help you gain control and work toward goals like buying a home or retiring comfortably.\n",
       "\n",
       "    ### 📊 Evaluation Results\n",
       "    - **Score**: 9/10\n",
       "    - **Iterations**: 1\n",
       "    - **Status**: evaluating\n"
      ],
      "text/plain": [
       "<IPython.core.display.Markdown object>"
      ]
     },
     "metadata": {},
     "output_type": "display_data"
    }
   ],
   "source": [
    "\n",
    "def run_agent_with_markdown_display(query: str):\n",
    "    \"\"\"Run the self-reflection agent and display results in markdown format\"\"\"\n",
    "    \n",
    "    initial_state = {\n",
    "        \"query\": query,\n",
    "        \"response\": \"\",\n",
    "        \"score\": 0,\n",
    "        \"suggestions\": [],\n",
    "        \"iteration\": 0,\n",
    "        \"status\": Status.RESEARCHING,\n",
    "        \"err_msg\": \"\"\n",
    "    }\n",
    "    \n",
    "    result = graph.invoke(initial_state)\n",
    "    \n",
    "    markdown_content = f\"\"\"\n",
    "    ## Self-Reflection Agent Results\n",
    "\n",
    "    ### Query\n",
    "    {result['query']}\n",
    "\n",
    "    ### Final Response\n",
    "    {result['response']}\n",
    "\n",
    "    ### 📊 Evaluation Results\n",
    "    - **Score**: {result['score']}/10\n",
    "    - **Iterations**: {result['iteration']}\n",
    "    - **Status**: {result['status'].value}\n",
    "\"\"\"\n",
    "    \n",
    "    display(Markdown(markdown_content))\n",
    "\n",
    "run_agent_with_markdown_display(\"50/30/20 budgeting rule for $50K salary\")"
   ]
  }
 ],
 "metadata": {
  "kernelspec": {
   "display_name": "Python 3",
   "language": "python",
   "name": "python3"
  },
  "language_info": {
   "codemirror_mode": {
    "name": "ipython",
    "version": 3
   },
   "file_extension": ".py",
   "mimetype": "text/x-python",
   "name": "python",
   "nbconvert_exporter": "python",
   "pygments_lexer": "ipython3",
   "version": "3.9.6"
  }
 },
 "nbformat": 4,
 "nbformat_minor": 5
}
